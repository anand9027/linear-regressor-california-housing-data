{
  "nbformat": 4,
  "nbformat_minor": 0,
  "metadata": {
    "colab": {
      "provenance": []
    },
    "kernelspec": {
      "name": "python3",
      "display_name": "Python 3"
    },
    "language_info": {
      "name": "python"
    }
  },
  "cells": [
    {
      "cell_type": "code",
      "execution_count": null,
      "metadata": {
        "id": "oEwZ3_cZseUi"
      },
      "outputs": [],
      "source": []
    },
    {
      "cell_type": "code",
      "source": [
        "# import functions, libraries\n",
        "from sklearn.datasets import fetch_california_housing\n",
        "from sklearn.linear_model import LinearRegression\n",
        "##import matplotlib.pyplot as plt\n",
        "from sklearn.model_selection import train_test_split\n",
        "from sklearn.metrics import r2_score, mean_squared_error\n",
        "\n",
        "\n",
        "# data loading\n",
        "\n",
        "dataset = fetch_california_housing()\n",
        "x = dataset['data'][..., 0:]\n",
        "y = dataset['target']\n",
        "\n",
        "print(x.shape)"
      ],
      "metadata": {
        "id": "hO4m1zEdsp2h",
        "colab": {
          "base_uri": "https://localhost:8080/"
        },
        "outputId": "5ecf0da9-8658-412f-99b5-e5ecb79c3e0b"
      },
      "execution_count": 197,
      "outputs": [
        {
          "output_type": "stream",
          "name": "stdout",
          "text": [
            "(20640, 8)\n"
          ]
        }
      ]
    },
    {
      "cell_type": "code",
      "source": [
        "# preparing test and train data\n",
        "\n",
        "x_train, x_test, y_train, y_test = train_test_split(x, y, test_size=0.20)\n",
        "##print(x_train.shape ,x_test.shape)\n",
        "# choose model\n",
        "model = LinearRegression()\n",
        "model.fit(x_train, y_train)\n",
        "y_pred = model.predict(x_test)\n",
        "\n"
      ],
      "metadata": {
        "id": "P6e6TExuF7ZJ"
      },
      "execution_count": 198,
      "outputs": []
    },
    {
      "cell_type": "code",
      "source": [
        "##plt.scatter(x[..., 0:], y)\n",
        "####plt.xlabel('Block Data')\n",
        "###plt.ylabel('Median House Value')"
      ],
      "metadata": {
        "id": "VFv9JlDIEL8d"
      },
      "execution_count": 134,
      "outputs": []
    },
    {
      "cell_type": "code",
      "source": [
        "##y = wx + b\n",
        "\n",
        "##w = model.coef_\n",
        "##b = model.intercept_\n",
        "##print(y_pred[0], w * x_test[0] + b)\n"
      ],
      "metadata": {
        "id": "QBvLABgE2MHb"
      },
      "execution_count": 195,
      "outputs": []
    },
    {
      "cell_type": "code",
      "source": [
        "# accuracy evaluation\n",
        "\n",
        "print(\"Coefficient of determination: %.2f\" % r2_score(y_test, y_pred))\n",
        "print(\"Mean squared error: %.2f\" % mean_squared_error(y_test, y_pred))"
      ],
      "metadata": {
        "colab": {
          "base_uri": "https://localhost:8080/"
        },
        "id": "AhPwp9aqF8ig",
        "outputId": "de126c07-7351-4dca-fe71-608d7d7daa98"
      },
      "execution_count": 199,
      "outputs": [
        {
          "output_type": "stream",
          "name": "stdout",
          "text": [
            "Coefficient of determination: 0.61\n",
            "Mean squared error: 0.52\n"
          ]
        }
      ]
    },
    {
      "cell_type": "code",
      "source": [],
      "metadata": {
        "id": "zK2pmYagGB2L"
      },
      "execution_count": null,
      "outputs": []
    }
  ]
}